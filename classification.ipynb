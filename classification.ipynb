{
 "cells": [
  {
   "cell_type": "code",
   "execution_count": 1,
   "id": "8a885582-a68c-4d49-96a9-b1cba5f9d4d2",
   "metadata": {},
   "outputs": [],
   "source": [
    "import pandas as pd\n",
    "import numpy as np\n",
    "import matplotlib.pyplot as plt\n",
    "import seaborn as sns\n",
    "from sklearn.preprocessing import StandardScaler\n",
    "from sklearn.cluster import KMeans\n",
    "import pickle\n"
   ]
  },
  {
   "cell_type": "code",
   "execution_count": 2,
   "id": "06b9cfa1-6f46-46d1-9d61-1aceaf2eaf0b",
   "metadata": {},
   "outputs": [],
   "source": [
    "import pyodbc"
   ]
  },
  {
   "cell_type": "code",
   "execution_count": 3,
   "id": "c987c505-6ca5-427e-84c5-c2252e13ceb5",
   "metadata": {},
   "outputs": [],
   "source": [
    "conn = pyodbc.connect(\n",
    "    \"Driver={SQL Server};\"\n",
    "    \"Server=DESKTOP-7K1D2RJ;\"  # Change server name if needed\n",
    "    \"Database=DWH;\"\n",
    "    \"Trusted_Connection=yes;\"\n",
    ")"
   ]
  },
  {
   "cell_type": "code",
   "execution_count": 4,
   "id": "8e33cb4d-18a9-4891-a5e7-f69106cb5b5c",
   "metadata": {},
   "outputs": [
    {
     "name": "stderr",
     "output_type": "stream",
     "text": [
      "C:\\Users\\Ichrak\\AppData\\Local\\Temp\\ipykernel_16940\\2040495026.py:2: UserWarning: pandas only supports SQLAlchemy connectable (engine/connection) or database string URI or sqlite3 DBAPI2 connection. Other DBAPI2 objects are not tested. Please consider using SQLAlchemy.\n",
      "  df = pd.read_sql(query, conn)\n"
     ]
    }
   ],
   "source": [
    "query = \"SELECT * FROM Dim_Facture\"\n",
    "df = pd.read_sql(query, conn)"
   ]
  },
  {
   "cell_type": "code",
   "execution_count": 113,
   "id": "6658af31-ff21-4215-881d-31e78f792e9b",
   "metadata": {},
   "outputs": [
    {
     "name": "stdout",
     "output_type": "stream",
     "text": [
      "  InvoiceID  Quantity  TotalPrice  UnitPrice      ProductName      Category\n",
      "0  INV00845         7      610.26      87.18  Bouteille d'eau   Alimentaire\n",
      "1  INV05830         8      719.44      89.93             Pain       Boisson\n",
      "2  INV05446         6      107.82      17.97        Confiture       Textile\n",
      "3  INV00264         3      116.13      38.71           Poulet   Alimentaire\n",
      "4  INV03016         5      128.60      25.72            Pâtes  Electronique\n"
     ]
    },
    {
     "name": "stderr",
     "output_type": "stream",
     "text": [
      "C:\\Users\\fayed\\AppData\\Local\\Temp\\ipykernel_888\\107323630.py:16: UserWarning: pandas only supports SQLAlchemy connectable (engine/connection) or database string URI or sqlite3 DBAPI2 connection. Other DBAPI2 objects are not tested. Please consider using SQLAlchemy.\n",
      "  df = pd.read_sql(query, conn)\n"
     ]
    }
   ],
   "source": [
    "query = \"\"\"\n",
    "SELECT \n",
    "    f.InvoiceID,\n",
    "    f.Quantity,\n",
    "    f.TotalPrice,\n",
    "    f.UnitPrice,\n",
    "    p.ProductName,\n",
    "    p.Category\n",
    "FROM \n",
    "    Dim_Facture f\n",
    "JOIN \n",
    "    Dim_Product p ON f.ProductID = p.ProductID\n",
    "\"\"\"\n",
    "\n",
    "# Fetch the data into a DataFrame\n",
    "df = pd.read_sql(query, conn)\n",
    "\n",
    "# Close the connection\n",
    "conn.close()\n",
    "\n",
    "# Display the data\n",
    "print(df.head())"
   ]
  },
  {
   "cell_type": "code",
   "execution_count": 114,
   "id": "344779d2-3181-4a05-b52f-949cd4cc8b3f",
   "metadata": {},
   "outputs": [
    {
     "name": "stdout",
     "output_type": "stream",
     "text": [
      "   InvoiceID  Quantity  TotalPrice      ProductName      Category  Label\n",
      "0   INV00845         7      610.26  Bouteille d'eau   Alimentaire      1\n",
      "1   INV05830         8      719.44             Pain       Boisson      1\n",
      "2   INV05446         6      107.82        Confiture       Textile      1\n",
      "3   INV00264         3      116.13           Poulet   Alimentaire      1\n",
      "4   INV03016         5      128.60            Pâtes  Electronique      1\n",
      "..       ...       ...         ...              ...           ...    ...\n",
      "95  INV03292         8      380.80            Pâtes  Electronique      1\n",
      "96  INV00387         6      140.94         Chocolat  Electronique      1\n",
      "97  INV03598         9       29.79  Pommes de terre       Boisson      0\n",
      "98  INV05447         1       13.58          Légumes  Electronique      0\n",
      "99  INV06735         7      206.01          Fromage  Electronique      1\n",
      "\n",
      "[100 rows x 6 columns]\n"
     ]
    }
   ],
   "source": [
    "# Condition métier claire avec AND logique\n",
    "def classifier_facture(row):\n",
    "    if row['UnitPrice'] > 10 and row['Quantity'] > 2 and row['TotalPrice'] > 10:\n",
    "        return 1  # facture suspecte\n",
    "    return 0  # facture normale\n",
    "\n",
    "# Applique la règle\n",
    "df['Label'] = df.apply(classifier_facture, axis=1)\n",
    "\n",
    "# Vérification des premières lignes\n",
    "print(df[['InvoiceID', 'Quantity', 'TotalPrice', 'ProductName', 'Category', 'Label']].head(100))\n"
   ]
  },
  {
   "cell_type": "code",
   "execution_count": 115,
   "id": "5991e167-a199-4bdd-825c-da1cd28f207d",
   "metadata": {},
   "outputs": [
    {
     "data": {
      "text/plain": [
       "Index(['InvoiceID', 'Quantity', 'TotalPrice', 'UnitPrice', 'ProductName',\n",
       "       'Category', 'Label'],\n",
       "      dtype='object')"
      ]
     },
     "execution_count": 115,
     "metadata": {},
     "output_type": "execute_result"
    }
   ],
   "source": [
    "df.columns"
   ]
  },
  {
   "cell_type": "code",
   "execution_count": 116,
   "id": "a3ce3002-5383-40e1-82b3-070898cd7c8a",
   "metadata": {},
   "outputs": [
    {
     "name": "stdout",
     "output_type": "stream",
     "text": [
      "             Missing Values  Percentage\n",
      "InvoiceID                 0         0.0\n",
      "Quantity                  0         0.0\n",
      "TotalPrice                0         0.0\n",
      "UnitPrice                 0         0.0\n",
      "ProductName               0         0.0\n",
      "Category                  0         0.0\n",
      "Label                     0         0.0\n"
     ]
    }
   ],
   "source": [
    "# Calculate the total number of rows in the DataFrame\n",
    "total_rows = df.shape[0]\n",
    "\n",
    "# Calculate the number of missing values (NaN) for each feature\n",
    "missing_values = df.isnull().sum()\n",
    "\n",
    "# Calculate the percentage of missing values for each feature\n",
    "percentage_missing = (missing_values / total_rows) * 100\n",
    "\n",
    "# Create a DataFrame to store the results\n",
    "missing_data_info = pd.DataFrame({'Missing Values': missing_values, 'Percentage': percentage_missing})\n",
    "\n",
    "# Display the DataFrame\n",
    "print(missing_data_info)"
   ]
  },
  {
   "cell_type": "code",
   "execution_count": 117,
   "id": "92f2f4bc-44d9-40c7-9dff-c83b62ae2ed9",
   "metadata": {},
   "outputs": [
    {
     "name": "stdout",
     "output_type": "stream",
     "text": [
      "(7203, 5)\n"
     ]
    }
   ],
   "source": [
    "relevant_features = ['Quantity', 'TotalPrice', 'ProductName', 'Category', 'Label']\n",
    "\n",
    "# Create a new DataFrame with only the relevant features\n",
    "df_relevant = df[relevant_features].copy()\n",
    "\n",
    "# Display the first few rows of the new DataFrame\n",
    "print(df_relevant.shape)\n"
   ]
  },
  {
   "cell_type": "code",
   "execution_count": 118,
   "id": "76889822-d272-4be1-abb9-0d43d2d19817",
   "metadata": {},
   "outputs": [
    {
     "data": {
      "text/html": [
       "<div>\n",
       "<style scoped>\n",
       "    .dataframe tbody tr th:only-of-type {\n",
       "        vertical-align: middle;\n",
       "    }\n",
       "\n",
       "    .dataframe tbody tr th {\n",
       "        vertical-align: top;\n",
       "    }\n",
       "\n",
       "    .dataframe thead th {\n",
       "        text-align: right;\n",
       "    }\n",
       "</style>\n",
       "<table border=\"1\" class=\"dataframe\">\n",
       "  <thead>\n",
       "    <tr style=\"text-align: right;\">\n",
       "      <th></th>\n",
       "      <th>Quantity</th>\n",
       "      <th>TotalPrice</th>\n",
       "      <th>ProductName</th>\n",
       "      <th>Category</th>\n",
       "      <th>Label</th>\n",
       "    </tr>\n",
       "  </thead>\n",
       "  <tbody>\n",
       "    <tr>\n",
       "      <th>0</th>\n",
       "      <td>7</td>\n",
       "      <td>610.26</td>\n",
       "      <td>Bouteille d'eau</td>\n",
       "      <td>Alimentaire</td>\n",
       "      <td>1</td>\n",
       "    </tr>\n",
       "    <tr>\n",
       "      <th>1</th>\n",
       "      <td>8</td>\n",
       "      <td>719.44</td>\n",
       "      <td>Pain</td>\n",
       "      <td>Boisson</td>\n",
       "      <td>1</td>\n",
       "    </tr>\n",
       "    <tr>\n",
       "      <th>2</th>\n",
       "      <td>6</td>\n",
       "      <td>107.82</td>\n",
       "      <td>Confiture</td>\n",
       "      <td>Textile</td>\n",
       "      <td>1</td>\n",
       "    </tr>\n",
       "    <tr>\n",
       "      <th>3</th>\n",
       "      <td>3</td>\n",
       "      <td>116.13</td>\n",
       "      <td>Poulet</td>\n",
       "      <td>Alimentaire</td>\n",
       "      <td>1</td>\n",
       "    </tr>\n",
       "    <tr>\n",
       "      <th>4</th>\n",
       "      <td>5</td>\n",
       "      <td>128.60</td>\n",
       "      <td>Pâtes</td>\n",
       "      <td>Electronique</td>\n",
       "      <td>1</td>\n",
       "    </tr>\n",
       "    <tr>\n",
       "      <th>...</th>\n",
       "      <td>...</td>\n",
       "      <td>...</td>\n",
       "      <td>...</td>\n",
       "      <td>...</td>\n",
       "      <td>...</td>\n",
       "    </tr>\n",
       "    <tr>\n",
       "      <th>7198</th>\n",
       "      <td>9</td>\n",
       "      <td>923.40</td>\n",
       "      <td>Kombucha Lökki Nature</td>\n",
       "      <td>Boissons</td>\n",
       "      <td>1</td>\n",
       "    </tr>\n",
       "    <tr>\n",
       "      <th>7199</th>\n",
       "      <td>11</td>\n",
       "      <td>1147.30</td>\n",
       "      <td>Kombucha Lökki Gingembre</td>\n",
       "      <td>Boissons</td>\n",
       "      <td>1</td>\n",
       "    </tr>\n",
       "    <tr>\n",
       "      <th>7200</th>\n",
       "      <td>13</td>\n",
       "      <td>1378.00</td>\n",
       "      <td>Kombucha Lökki Citron</td>\n",
       "      <td>Boissons</td>\n",
       "      <td>1</td>\n",
       "    </tr>\n",
       "    <tr>\n",
       "      <th>7201</th>\n",
       "      <td>7</td>\n",
       "      <td>707.70</td>\n",
       "      <td>Kombucha Lökki Pomme</td>\n",
       "      <td>Boissons</td>\n",
       "      <td>1</td>\n",
       "    </tr>\n",
       "    <tr>\n",
       "      <th>7202</th>\n",
       "      <td>15</td>\n",
       "      <td>1656.00</td>\n",
       "      <td>Bioderma Crème Hydratante</td>\n",
       "      <td>Cosmétiques</td>\n",
       "      <td>1</td>\n",
       "    </tr>\n",
       "  </tbody>\n",
       "</table>\n",
       "<p>7203 rows × 5 columns</p>\n",
       "</div>"
      ],
      "text/plain": [
       "      Quantity  TotalPrice                ProductName      Category  Label\n",
       "0            7      610.26            Bouteille d'eau   Alimentaire      1\n",
       "1            8      719.44                       Pain       Boisson      1\n",
       "2            6      107.82                  Confiture       Textile      1\n",
       "3            3      116.13                     Poulet   Alimentaire      1\n",
       "4            5      128.60                      Pâtes  Electronique      1\n",
       "...        ...         ...                        ...           ...    ...\n",
       "7198         9      923.40      Kombucha Lökki Nature      Boissons      1\n",
       "7199        11     1147.30   Kombucha Lökki Gingembre      Boissons      1\n",
       "7200        13     1378.00      Kombucha Lökki Citron      Boissons      1\n",
       "7201         7      707.70       Kombucha Lökki Pomme      Boissons      1\n",
       "7202        15     1656.00  Bioderma Crème Hydratante   Cosmétiques      1\n",
       "\n",
       "[7203 rows x 5 columns]"
      ]
     },
     "execution_count": 118,
     "metadata": {},
     "output_type": "execute_result"
    }
   ],
   "source": [
    "df_relevant"
   ]
  },
  {
   "cell_type": "code",
   "execution_count": 119,
   "id": "d7af4b19-4460-4567-a367-ba587ef0caa6",
   "metadata": {},
   "outputs": [
    {
     "name": "stdout",
     "output_type": "stream",
     "text": [
      "Missing Values per Feature:\n",
      "Quantity       0\n",
      "TotalPrice     0\n",
      "ProductName    0\n",
      "Category       0\n",
      "Label          0\n",
      "dtype: int64\n"
     ]
    }
   ],
   "source": [
    "# Calculate the number of missing values for each feature\n",
    "missing_values_per_feature = df_relevant.isnull().sum()\n",
    "\n",
    "# Display the missing values for each feature\n",
    "print(\"Missing Values per Feature:\")\n",
    "print(missing_values_per_feature)"
   ]
  },
  {
   "cell_type": "code",
   "execution_count": 120,
   "id": "d1882fa0-70a2-4345-abaa-1ca853913cb3",
   "metadata": {},
   "outputs": [
    {
     "data": {
      "text/html": [
       "<div>\n",
       "<style scoped>\n",
       "    .dataframe tbody tr th:only-of-type {\n",
       "        vertical-align: middle;\n",
       "    }\n",
       "\n",
       "    .dataframe tbody tr th {\n",
       "        vertical-align: top;\n",
       "    }\n",
       "\n",
       "    .dataframe thead th {\n",
       "        text-align: right;\n",
       "    }\n",
       "</style>\n",
       "<table border=\"1\" class=\"dataframe\">\n",
       "  <thead>\n",
       "    <tr style=\"text-align: right;\">\n",
       "      <th></th>\n",
       "      <th>Quantity</th>\n",
       "      <th>TotalPrice</th>\n",
       "      <th>ProductName</th>\n",
       "      <th>Category</th>\n",
       "      <th>Label</th>\n",
       "    </tr>\n",
       "  </thead>\n",
       "  <tbody>\n",
       "    <tr>\n",
       "      <th>0</th>\n",
       "      <td>7</td>\n",
       "      <td>610.26</td>\n",
       "      <td>16</td>\n",
       "      <td>0</td>\n",
       "      <td>1</td>\n",
       "    </tr>\n",
       "    <tr>\n",
       "      <th>1</th>\n",
       "      <td>8</td>\n",
       "      <td>719.44</td>\n",
       "      <td>86</td>\n",
       "      <td>1</td>\n",
       "      <td>1</td>\n",
       "    </tr>\n",
       "    <tr>\n",
       "      <th>2</th>\n",
       "      <td>6</td>\n",
       "      <td>107.82</td>\n",
       "      <td>33</td>\n",
       "      <td>28</td>\n",
       "      <td>1</td>\n",
       "    </tr>\n",
       "    <tr>\n",
       "      <th>3</th>\n",
       "      <td>3</td>\n",
       "      <td>116.13</td>\n",
       "      <td>106</td>\n",
       "      <td>0</td>\n",
       "      <td>1</td>\n",
       "    </tr>\n",
       "    <tr>\n",
       "      <th>4</th>\n",
       "      <td>5</td>\n",
       "      <td>128.60</td>\n",
       "      <td>114</td>\n",
       "      <td>10</td>\n",
       "      <td>1</td>\n",
       "    </tr>\n",
       "    <tr>\n",
       "      <th>...</th>\n",
       "      <td>...</td>\n",
       "      <td>...</td>\n",
       "      <td>...</td>\n",
       "      <td>...</td>\n",
       "      <td>...</td>\n",
       "    </tr>\n",
       "    <tr>\n",
       "      <th>7198</th>\n",
       "      <td>9</td>\n",
       "      <td>923.40</td>\n",
       "      <td>67</td>\n",
       "      <td>2</td>\n",
       "      <td>1</td>\n",
       "    </tr>\n",
       "    <tr>\n",
       "      <th>7199</th>\n",
       "      <td>11</td>\n",
       "      <td>1147.30</td>\n",
       "      <td>66</td>\n",
       "      <td>2</td>\n",
       "      <td>1</td>\n",
       "    </tr>\n",
       "    <tr>\n",
       "      <th>7200</th>\n",
       "      <td>13</td>\n",
       "      <td>1378.00</td>\n",
       "      <td>65</td>\n",
       "      <td>2</td>\n",
       "      <td>1</td>\n",
       "    </tr>\n",
       "    <tr>\n",
       "      <th>7201</th>\n",
       "      <td>7</td>\n",
       "      <td>707.70</td>\n",
       "      <td>68</td>\n",
       "      <td>2</td>\n",
       "      <td>1</td>\n",
       "    </tr>\n",
       "    <tr>\n",
       "      <th>7202</th>\n",
       "      <td>15</td>\n",
       "      <td>1656.00</td>\n",
       "      <td>13</td>\n",
       "      <td>4</td>\n",
       "      <td>1</td>\n",
       "    </tr>\n",
       "  </tbody>\n",
       "</table>\n",
       "<p>7203 rows × 5 columns</p>\n",
       "</div>"
      ],
      "text/plain": [
       "      Quantity  TotalPrice  ProductName  Category  Label\n",
       "0            7      610.26           16         0      1\n",
       "1            8      719.44           86         1      1\n",
       "2            6      107.82           33        28      1\n",
       "3            3      116.13          106         0      1\n",
       "4            5      128.60          114        10      1\n",
       "...        ...         ...          ...       ...    ...\n",
       "7198         9      923.40           67         2      1\n",
       "7199        11     1147.30           66         2      1\n",
       "7200        13     1378.00           65         2      1\n",
       "7201         7      707.70           68         2      1\n",
       "7202        15     1656.00           13         4      1\n",
       "\n",
       "[7203 rows x 5 columns]"
      ]
     },
     "execution_count": 120,
     "metadata": {},
     "output_type": "execute_result"
    }
   ],
   "source": [
    "from sklearn.preprocessing import LabelEncoder\n",
    "# Identify categorical columns\n",
    "categorical_columns = df_relevant.select_dtypes(include=['object']).columns\n",
    "\n",
    "# Initialize LabelEncoder\n",
    "label_encoder = LabelEncoder()\n",
    "\n",
    "# Apply LabelEncoder to each categorical column\n",
    "for col in categorical_columns:\n",
    "    df_relevant[col] = label_encoder.fit_transform(df_relevant[col])\n",
    "\n",
    "df_relevant"
   ]
  },
  {
   "cell_type": "code",
   "execution_count": 121,
   "id": "ec0fbbfc-7893-4aa3-b3f9-8319d01c8208",
   "metadata": {},
   "outputs": [
    {
     "name": "stdout",
     "output_type": "stream",
     "text": [
      "             Missing Values  Percentage\n",
      "InvoiceID                 0         0.0\n",
      "Quantity                  0         0.0\n",
      "TotalPrice                0         0.0\n",
      "UnitPrice                 0         0.0\n",
      "ProductName               0         0.0\n",
      "Category                  0         0.0\n",
      "Label                     0         0.0\n"
     ]
    }
   ],
   "source": [
    "# Calculate the total number of rows in the DataFrame\n",
    "total_rows = df.shape[0]\n",
    "\n",
    "# Calculate the number of missing values (NaN) for each feature\n",
    "missing_values = df.isnull().sum()\n",
    "\n",
    "# Calculate the percentage of missing values for each feature\n",
    "percentage_missing = (missing_values / total_rows) * 100\n",
    "\n",
    "# Create a DataFrame to store the results\n",
    "missing_data_info = pd.DataFrame({'Missing Values': missing_values, 'Percentage': percentage_missing})\n",
    "\n",
    "# Display the DataFrame\n",
    "print(missing_data_info)"
   ]
  },
  {
   "cell_type": "code",
   "execution_count": 122,
   "id": "f2ea41e0-d2f0-445e-8500-b6fe83b5ed48",
   "metadata": {},
   "outputs": [],
   "source": [
    "df = df_relevant"
   ]
  },
  {
   "cell_type": "code",
   "execution_count": 123,
   "id": "409d22a4-febc-4cd9-b715-6e87b490dac4",
   "metadata": {},
   "outputs": [
    {
     "data": {
      "image/png": "[encoded data removed]",
      "text/plain": [
       "<Figure size 800x600 with 1 Axes>"
      ]
     },
     "metadata": {},
     "output_type": "display_data"
    },
    {
     "data": {
      "image/png": "[encoded data removed]",
      "text/plain": [
       "<Figure size 800x600 with 1 Axes>"
      ]
     },
     "metadata": {},
     "output_type": "display_data"
    },
    {
     "data": {
      "image/png": "[encoded data removed]",
      "text/plain": [
       "<Figure size 800x600 with 1 Axes>"
      ]
     },
     "metadata": {},
     "output_type": "display_data"
    },
    {
     "data": {
      "image/png": "[encoded data removed]",
      "text/plain": [
       "<Figure size 800x600 with 1 Axes>"
      ]
     },
     "metadata": {},
     "output_type": "display_data"
    },
    {
     "data": {
      "image/png": "[encoded data removed]",
      "text/plain": [
       "<Figure size 800x600 with 1 Axes>"
      ]
     },
     "metadata": {},
     "output_type": "display_data"
    }
   ],
   "source": [
    "import matplotlib.pyplot as plt\n",
    "\n",
    "def plot_distribution(df, feature_name):\n",
    "    plt.figure(figsize=(8, 6))\n",
    "    plt.hist(df[feature_name], bins=20, color='skyblue', edgecolor='black')\n",
    "    plt.title(f'Distribution of {feature_name}')\n",
    "    plt.xlabel(feature_name)\n",
    "    plt.ylabel('Frequency')\n",
    "    plt.grid(True)\n",
    "    plt.show()\n",
    "\n",
    "# Loop through the first 12 columns of the DataFrame\n",
    "for column in df.columns[:]:\n",
    "    plot_distribution(df, column)"
   ]
  },
  {
   "cell_type": "code",
   "execution_count": 125,
   "id": "f9be40b0-99fd-43ec-a6cb-9ac961375eac",
   "metadata": {},
   "outputs": [
    {
     "data": {
      "text/html": [
       "<div>\n",
       "<style scoped>\n",
       "    .dataframe tbody tr th:only-of-type {\n",
       "        vertical-align: middle;\n",
       "    }\n",
       "\n",
       "    .dataframe tbody tr th {\n",
       "        vertical-align: top;\n",
       "    }\n",
       "\n",
       "    .dataframe thead th {\n",
       "        text-align: right;\n",
       "    }\n",
       "</style>\n",
       "<table border=\"1\" class=\"dataframe\">\n",
       "  <thead>\n",
       "    <tr style=\"text-align: right;\">\n",
       "      <th></th>\n",
       "      <th>Quantity</th>\n",
       "      <th>TotalPrice</th>\n",
       "      <th>ProductName</th>\n",
       "      <th>Category</th>\n",
       "      <th>Label</th>\n",
       "    </tr>\n",
       "  </thead>\n",
       "  <tbody>\n",
       "    <tr>\n",
       "      <th>0</th>\n",
       "      <td>7</td>\n",
       "      <td>610.26</td>\n",
       "      <td>16</td>\n",
       "      <td>0</td>\n",
       "      <td>1</td>\n",
       "    </tr>\n",
       "    <tr>\n",
       "      <th>1</th>\n",
       "      <td>8</td>\n",
       "      <td>719.44</td>\n",
       "      <td>86</td>\n",
       "      <td>1</td>\n",
       "      <td>1</td>\n",
       "    </tr>\n",
       "    <tr>\n",
       "      <th>2</th>\n",
       "      <td>6</td>\n",
       "      <td>107.82</td>\n",
       "      <td>33</td>\n",
       "      <td>28</td>\n",
       "      <td>1</td>\n",
       "    </tr>\n",
       "    <tr>\n",
       "      <th>3</th>\n",
       "      <td>3</td>\n",
       "      <td>116.13</td>\n",
       "      <td>106</td>\n",
       "      <td>0</td>\n",
       "      <td>1</td>\n",
       "    </tr>\n",
       "    <tr>\n",
       "      <th>4</th>\n",
       "      <td>5</td>\n",
       "      <td>128.60</td>\n",
       "      <td>114</td>\n",
       "      <td>10</td>\n",
       "      <td>1</td>\n",
       "    </tr>\n",
       "    <tr>\n",
       "      <th>...</th>\n",
       "      <td>...</td>\n",
       "      <td>...</td>\n",
       "      <td>...</td>\n",
       "      <td>...</td>\n",
       "      <td>...</td>\n",
       "    </tr>\n",
       "    <tr>\n",
       "      <th>7198</th>\n",
       "      <td>9</td>\n",
       "      <td>923.40</td>\n",
       "      <td>67</td>\n",
       "      <td>2</td>\n",
       "      <td>1</td>\n",
       "    </tr>\n",
       "    <tr>\n",
       "      <th>7199</th>\n",
       "      <td>11</td>\n",
       "      <td>1147.30</td>\n",
       "      <td>66</td>\n",
       "      <td>2</td>\n",
       "      <td>1</td>\n",
       "    </tr>\n",
       "    <tr>\n",
       "      <th>7200</th>\n",
       "      <td>13</td>\n",
       "      <td>1378.00</td>\n",
       "      <td>65</td>\n",
       "      <td>2</td>\n",
       "      <td>1</td>\n",
       "    </tr>\n",
       "    <tr>\n",
       "      <th>7201</th>\n",
       "      <td>7</td>\n",
       "      <td>707.70</td>\n",
       "      <td>68</td>\n",
       "      <td>2</td>\n",
       "      <td>1</td>\n",
       "    </tr>\n",
       "    <tr>\n",
       "      <th>7202</th>\n",
       "      <td>15</td>\n",
       "      <td>1656.00</td>\n",
       "      <td>13</td>\n",
       "      <td>4</td>\n",
       "      <td>1</td>\n",
       "    </tr>\n",
       "  </tbody>\n",
       "</table>\n",
       "<p>7203 rows × 5 columns</p>\n",
       "</div>"
      ],
      "text/plain": [
       "      Quantity  TotalPrice  ProductName  Category  Label\n",
       "0            7      610.26           16         0      1\n",
       "1            8      719.44           86         1      1\n",
       "2            6      107.82           33        28      1\n",
       "3            3      116.13          106         0      1\n",
       "4            5      128.60          114        10      1\n",
       "...        ...         ...          ...       ...    ...\n",
       "7198         9      923.40           67         2      1\n",
       "7199        11     1147.30           66         2      1\n",
       "7200        13     1378.00           65         2      1\n",
       "7201         7      707.70           68         2      1\n",
       "7202        15     1656.00           13         4      1\n",
       "\n",
       "[7203 rows x 5 columns]"
      ]
     },
     "execution_count": 125,
     "metadata": {},
     "output_type": "execute_result"
    }
   ],
   "source": [
    "df"
   ]
  },
  {
   "cell_type": "code",
   "execution_count": 143,
   "id": "ffa090cf-7238-4aec-a44a-49a277deaa32",
   "metadata": {},
   "outputs": [],
   "source": [
    "import pandas as pd\n",
    "\n",
    "# Supposons les valeurs suivantes pour tester :\n",
    "# Quantity = 10\n",
    "# TotalPrice = 45\n",
    "# Product_encoded = 3\n",
    "# Category_encoded = 2\n",
    "\n",
    "new_data = pd.DataFrame([{\n",
    "    'Quantity': 10,\n",
    "    'TotalPrice': 45,\n",
    "    'ProductName': 3,\n",
    "    'Category': 2\n",
    "}])\n"
   ]
  },
  {
   "cell_type": "code",
   "execution_count": 144,
   "id": "a70aaa81-101c-4f43-be20-e7b7b05e5edb",
   "metadata": {},
   "outputs": [],
   "source": [
    "new_sprediction_rf = logreg.predict(new_data)"
   ]
  },
  {
   "cell_type": "code",
   "execution_count": 145,
   "id": "89a16ff4-d67d-4b06-9f8b-3c91fecb558d",
   "metadata": {},
   "outputs": [
    {
     "name": "stdout",
     "output_type": "stream",
     "text": [
      "Predicted : [0]\n"
     ]
    }
   ],
   "source": [
    "print(\"Predicted :\", new_sprediction_rf)"
   ]
  },
  {
   "cell_type": "code",
   "execution_count": 146,
   "id": "f5c0e6ec-9b2a-447a-a556-1a61e9524808",
   "metadata": {},
   "outputs": [],
   "source": [
    "##### 0 w lo5ra mch nrml "
   ]
  },
  {
   "cell_type": "code",
   "execution_count": 147,
   "id": "ae428aa0-664e-4821-ace2-bb99874a97ee",
   "metadata": {},
   "outputs": [
    {
     "name": "stdout",
     "output_type": "stream",
     "text": [
      "Accuracy: 0.9979181124219292\n",
      "\n",
      "Classification Report:\n",
      "               precision    recall  f1-score   support\n",
      "\n",
      "           0       0.99      1.00      1.00       349\n",
      "           1       1.00      1.00      1.00      1092\n",
      "\n",
      "    accuracy                           1.00      1441\n",
      "   macro avg       1.00      1.00      1.00      1441\n",
      "weighted avg       1.00      1.00      1.00      1441\n",
      "\n",
      "\n",
      "Confusion Matrix:\n",
      " [[ 348    1]\n",
      " [   2 1090]]\n"
     ]
    }
   ],
   "source": [
    "import pandas as pd\n",
    "from sklearn.model_selection import train_test_split\n",
    "from sklearn.ensemble import GradientBoostingClassifier\n",
    "from sklearn.metrics import accuracy_score, classification_report, confusion_matrix\n",
    "\n",
    "# Séparer les variables explicatives (X) et la cible (y)\n",
    "X = df.drop(columns=['Label'])\n",
    "y = df['Label']\n",
    "\n",
    "# Encodage des variables catégorielles si nécessaire\n",
    "X = pd.get_dummies(X)\n",
    "\n",
    "# Split train/test\n",
    "X_train, X_test, y_train, y_test = train_test_split(X, y, test_size=0.2, random_state=42)\n",
    "\n",
    "# Initialiser et entraîner Gradient Boosting\n",
    "gb_model = GradientBoostingClassifier()\n",
    "gb_model.fit(X_train, y_train)\n",
    "\n",
    "# Prédictions\n",
    "y_pred = gb_model.predict(X_test)\n",
    "\n",
    "# Évaluation\n",
    "print(\"Accuracy:\", accuracy_score(y_test, y_pred))\n",
    "print(\"\\nClassification Report:\\n\", classification_report(y_test, y_pred))\n",
    "print(\"\\nConfusion Matrix:\\n\", confusion_matrix(y_test, y_pred))\n"
   ]
  },
  {
   "cell_type": "code",
   "execution_count": 132,
   "id": "8de9776a-a796-4e05-970c-d7b9db957a2e",
   "metadata": {},
   "outputs": [],
   "source": [
    "new_data = pd.DataFrame([{\n",
    "    'Quantity': 10,\n",
    "    'TotalPrice': 45,\n",
    "    'ProductName': 3,\n",
    "    'Category': 2\n",
    "}])"
   ]
  },
  {
   "cell_type": "code",
   "execution_count": 134,
   "id": "d69d36cd-87aa-4da4-b952-02c038c3b37c",
   "metadata": {},
   "outputs": [],
   "source": [
    "new_sprediction_rf = gb_model.predict(new_data)"
   ]
  },
  {
   "cell_type": "code",
   "execution_count": 135,
   "id": "cae3106a-9bb8-4c35-b695-999466143d53",
   "metadata": {
    "scrolled": true
   },
   "outputs": [
    {
     "name": "stdout",
     "output_type": "stream",
     "text": [
      "Predicted : [0]\n"
     ]
    }
   ],
   "source": [
    "print(\"Predicted :\", new_sprediction_rf)"
   ]
  },
  {
   "cell_type": "code",
   "execution_count": null,
   "id": "25c16dfd-8b8e-41a5-8cbe-c622ce8c6f87",
   "metadata": {},
   "outputs": [],
   "source": []
  }
 ],
 "metadata": {
  "kernelspec": {
   "display_name": "Python 3 (ipykernel)",
   "language": "python",
   "name": "python3"
  },
  "language_info": {
   "codemirror_mode": {
    "name": "ipython",
    "version": 3
   },
   "file_extension": ".py",
   "mimetype": "text/x-python",
   "name": "python",
   "nbconvert_exporter": "python",
   "pygments_lexer": "ipython3",
   "version": "3.11.5"
  }
 },
 "nbformat": 4,
 "nbformat_minor": 5
}
