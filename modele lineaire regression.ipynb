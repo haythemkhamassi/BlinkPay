{
 "cells": [
  {
   "cell_type": "code",
   "execution_count": 1,
   "id": "cc8707d1-144e-4f6a-8aaa-b62ca913f039",
   "metadata": {},
   "outputs": [],
   "source": [
    "import pandas as pd\n",
    "import numpy as np\n",
    "import matplotlib.pyplot as plt\n",
    "import seaborn as sns\n",
    "from sklearn.preprocessing import StandardScaler\n",
    "from sklearn.cluster import KMeans\n",
    "import pickle\n"
   ]
  },
  {
   "cell_type": "code",
   "execution_count": 2,
   "id": "7c9a4303-9b82-4c47-88d4-3b4c4cff5b9d",
   "metadata": {},
   "outputs": [],
   "source": [
    "import pyodbc"
   ]
  },
  {
   "cell_type": "code",
   "execution_count": 3,
   "id": "def29690-c9a1-4003-ac60-827871cda614",
   "metadata": {},
   "outputs": [],
   "source": [
    "conn = pyodbc.connect(\n",
    "    \"Driver={SQL Server};\"\n",
    "    \"Server=DESKTOP-7K1D2RJ;\"\n",
    "    \"Database=DWH;\"\n",
    "    \"Trusted_Connection=yes;\"\n",
    ")"
   ]
  },
  {
   "cell_type": "code",
   "execution_count": 4,
   "id": "cd3f7969-f01a-4a93-817b-62bc64e9c474",
   "metadata": {},
   "outputs": [
    {
     "name": "stderr",
     "output_type": "stream",
     "text": [
      "C:\\Users\\Ichrak\\AppData\\Local\\Temp\\ipykernel_3240\\4042625595.py:2: UserWarning: pandas only supports SQLAlchemy connectable (engine/connection) or database string URI or sqlite3 DBAPI2 connection. Other DBAPI2 objects are not tested. Please consider using SQLAlchemy.\n",
      "  df = pd.read_sql(query, conn)\n"
     ]
    }
   ],
   "source": [
    "query = \"SELECT * FROM FactComptabilite\"\n",
    "df = pd.read_sql(query, conn)"
   ]
  },
  {
   "cell_type": "code",
   "execution_count": 5,
   "id": "e4ed8138-7c57-4167-937c-8ae979d012d1",
   "metadata": {},
   "outputs": [
    {
     "name": "stdout",
     "output_type": "stream",
     "text": [
      "   Amortissement_Cumule  Cout_de_Maintenance  Investissement_dans_les_Actifs  \\\n",
      "0             4026739.0            5255891.0                     182826300.0   \n",
      "1             8363473.0           10225318.0                     211300200.0   \n",
      "2            12836290.0            8940646.0                     264511400.0   \n",
      "3            17133930.0           12949347.0                     194698300.0   \n",
      "4            23981740.0            8975540.0                     293709800.0   \n",
      "\n",
      "         Revenu  \n",
      "0  5.534759e+09  \n",
      "1  5.525097e+09  \n",
      "2  5.784253e+09  \n",
      "3  5.783704e+09  \n",
      "4  5.955701e+09  \n"
     ]
    },
    {
     "name": "stderr",
     "output_type": "stream",
     "text": [
      "C:\\Users\\Ichrak\\AppData\\Local\\Temp\\ipykernel_3240\\816586264.py:11: UserWarning: pandas only supports SQLAlchemy connectable (engine/connection) or database string URI or sqlite3 DBAPI2 connection. Other DBAPI2 objects are not tested. Please consider using SQLAlchemy.\n",
      "  df = pd.read_sql(query, conn)\n"
     ]
    }
   ],
   "source": [
    "query = \"\"\"\n",
    "SELECT \n",
    "    f.Amortissement_Cumule,\n",
    "    f.Cout_de_Maintenance,\n",
    "    f.Investissement_dans_les_Actifs,\n",
    "    f.Revenu\n",
    "FROM \n",
    "    FactComptabilite f\n",
    "\"\"\"\n",
    "# Fetch the data into a DataFrame\n",
    "df = pd.read_sql(query, conn)\n",
    "\n",
    "# Close the connection\n",
    "conn.close()\n",
    "\n",
    "# Display the data\n",
    "print(df.head())\n"
   ]
  },
  {
   "cell_type": "code",
   "execution_count": 6,
   "id": "eb1bcfa9-6867-4a35-abaa-ba5d168b986b",
   "metadata": {},
   "outputs": [],
   "source": [
    "import pandas as pd\n",
    "import numpy as np\n",
    "from sklearn.ensemble import RandomForestRegressor"
   ]
  },
  {
   "cell_type": "code",
   "execution_count": 7,
   "id": "47893ca0-86bf-44f6-874f-c27c285cf40f",
   "metadata": {},
   "outputs": [
    {
     "data": {
      "text/plain": [
       "(100, 4)"
      ]
     },
     "execution_count": 7,
     "metadata": {},
     "output_type": "execute_result"
    }
   ],
   "source": [
    "df.shape"
   ]
  },
  {
   "cell_type": "code",
   "execution_count": 8,
   "id": "73cb3046-49dc-43f9-8dae-e2152537b9a7",
   "metadata": {},
   "outputs": [
    {
     "data": {
      "text/plain": [
       "Index(['Amortissement_Cumule', 'Cout_de_Maintenance',\n",
       "       'Investissement_dans_les_Actifs', 'Revenu'],\n",
       "      dtype='object')"
      ]
     },
     "execution_count": 8,
     "metadata": {},
     "output_type": "execute_result"
    }
   ],
   "source": [
    "df.columns"
   ]
  },
  {
   "cell_type": "code",
   "execution_count": 9,
   "id": "159ce925-93dc-4d1d-aa80-3202ce547090",
   "metadata": {},
   "outputs": [
    {
     "name": "stdout",
     "output_type": "stream",
     "text": [
      "                                Missing Values  Percentage\n",
      "Amortissement_Cumule                         1         1.0\n",
      "Cout_de_Maintenance                          1         1.0\n",
      "Investissement_dans_les_Actifs               1         1.0\n",
      "Revenu                                       1         1.0\n"
     ]
    }
   ],
   "source": [
    "# Calculate the total number of rows in the DataFrame\n",
    "total_rows = df.shape[0]\n",
    "\n",
    "# Calculate the number of missing values (NaN) for each feature\n",
    "missing_values = df.isnull().sum()\n",
    "\n",
    "# Calculate the percentage of missing values for each feature\n",
    "percentage_missing = (missing_values / total_rows) * 100\n",
    "\n",
    "# Create a DataFrame to store the results\n",
    "missing_data_info = pd.DataFrame({'Missing Values': missing_values, 'Percentage': percentage_missing})\n",
    "\n",
    "# Display the DataFrame\n",
    "print(missing_data_info)"
   ]
  },
  {
   "cell_type": "code",
   "execution_count": 10,
   "id": "601673df-8e12-4819-af1c-071ec4d0c179",
   "metadata": {},
   "outputs": [
    {
     "name": "stdout",
     "output_type": "stream",
     "text": [
      "(100, 4)\n"
     ]
    }
   ],
   "source": [
    "# List of features considered relevant for predictive modeling\n",
    "relevant_features = ['Amortissement_Cumule', 'Cout_de_Maintenance', 'Investissement_dans_les_Actifs', 'Revenu']\n",
    "\n",
    "\n",
    "# Create a new DataFrame with only the relevant features\n",
    "df_relevant = df[relevant_features].copy()\n",
    "\n",
    "# Display the first few rows of the new DataFrame\n",
    "print(df_relevant.shape)\n"
   ]
  },
  {
   "cell_type": "code",
   "execution_count": 11,
   "id": "96941edf-4783-404d-8fff-26de5e349c82",
   "metadata": {},
   "outputs": [
    {
     "data": {
      "text/html": [
       "<div>\n",
       "<style scoped>\n",
       "    .dataframe tbody tr th:only-of-type {\n",
       "        vertical-align: middle;\n",
       "    }\n",
       "\n",
       "    .dataframe tbody tr th {\n",
       "        vertical-align: top;\n",
       "    }\n",
       "\n",
       "    .dataframe thead th {\n",
       "        text-align: right;\n",
       "    }\n",
       "</style>\n",
       "<table border=\"1\" class=\"dataframe\">\n",
       "  <thead>\n",
       "    <tr style=\"text-align: right;\">\n",
       "      <th></th>\n",
       "      <th>Amortissement_Cumule</th>\n",
       "      <th>Cout_de_Maintenance</th>\n",
       "      <th>Investissement_dans_les_Actifs</th>\n",
       "      <th>Revenu</th>\n",
       "    </tr>\n",
       "  </thead>\n",
       "  <tbody>\n",
       "    <tr>\n",
       "      <th>0</th>\n",
       "      <td>4026739.0</td>\n",
       "      <td>5255891.0</td>\n",
       "      <td>182826300.0</td>\n",
       "      <td>5.534759e+09</td>\n",
       "    </tr>\n",
       "    <tr>\n",
       "      <th>1</th>\n",
       "      <td>8363473.0</td>\n",
       "      <td>10225318.0</td>\n",
       "      <td>211300200.0</td>\n",
       "      <td>5.525097e+09</td>\n",
       "    </tr>\n",
       "    <tr>\n",
       "      <th>2</th>\n",
       "      <td>12836290.0</td>\n",
       "      <td>8940646.0</td>\n",
       "      <td>264511400.0</td>\n",
       "      <td>5.784253e+09</td>\n",
       "    </tr>\n",
       "    <tr>\n",
       "      <th>3</th>\n",
       "      <td>17133930.0</td>\n",
       "      <td>12949347.0</td>\n",
       "      <td>194698300.0</td>\n",
       "      <td>5.783704e+09</td>\n",
       "    </tr>\n",
       "    <tr>\n",
       "      <th>4</th>\n",
       "      <td>23981740.0</td>\n",
       "      <td>8975540.0</td>\n",
       "      <td>293709800.0</td>\n",
       "      <td>5.955701e+09</td>\n",
       "    </tr>\n",
       "    <tr>\n",
       "      <th>...</th>\n",
       "      <td>...</td>\n",
       "      <td>...</td>\n",
       "      <td>...</td>\n",
       "      <td>...</td>\n",
       "    </tr>\n",
       "    <tr>\n",
       "      <th>95</th>\n",
       "      <td>134151200.0</td>\n",
       "      <td>13387523.0</td>\n",
       "      <td>231027700.0</td>\n",
       "      <td>6.418321e+09</td>\n",
       "    </tr>\n",
       "    <tr>\n",
       "      <th>96</th>\n",
       "      <td>106796700.0</td>\n",
       "      <td>5706196.0</td>\n",
       "      <td>287120100.0</td>\n",
       "      <td>7.339604e+09</td>\n",
       "    </tr>\n",
       "    <tr>\n",
       "      <th>97</th>\n",
       "      <td>132705000.0</td>\n",
       "      <td>8782928.0</td>\n",
       "      <td>294497000.0</td>\n",
       "      <td>6.008380e+09</td>\n",
       "    </tr>\n",
       "    <tr>\n",
       "      <th>98</th>\n",
       "      <td>85889090.0</td>\n",
       "      <td>5283669.0</td>\n",
       "      <td>244334300.0</td>\n",
       "      <td>6.143543e+09</td>\n",
       "    </tr>\n",
       "    <tr>\n",
       "      <th>99</th>\n",
       "      <td>NaN</td>\n",
       "      <td>NaN</td>\n",
       "      <td>NaN</td>\n",
       "      <td>NaN</td>\n",
       "    </tr>\n",
       "  </tbody>\n",
       "</table>\n",
       "<p>100 rows × 4 columns</p>\n",
       "</div>"
      ],
      "text/plain": [
       "    Amortissement_Cumule  Cout_de_Maintenance  Investissement_dans_les_Actifs  \\\n",
       "0              4026739.0            5255891.0                     182826300.0   \n",
       "1              8363473.0           10225318.0                     211300200.0   \n",
       "2             12836290.0            8940646.0                     264511400.0   \n",
       "3             17133930.0           12949347.0                     194698300.0   \n",
       "4             23981740.0            8975540.0                     293709800.0   \n",
       "..                   ...                  ...                             ...   \n",
       "95           134151200.0           13387523.0                     231027700.0   \n",
       "96           106796700.0            5706196.0                     287120100.0   \n",
       "97           132705000.0            8782928.0                     294497000.0   \n",
       "98            85889090.0            5283669.0                     244334300.0   \n",
       "99                   NaN                  NaN                             NaN   \n",
       "\n",
       "          Revenu  \n",
       "0   5.534759e+09  \n",
       "1   5.525097e+09  \n",
       "2   5.784253e+09  \n",
       "3   5.783704e+09  \n",
       "4   5.955701e+09  \n",
       "..           ...  \n",
       "95  6.418321e+09  \n",
       "96  7.339604e+09  \n",
       "97  6.008380e+09  \n",
       "98  6.143543e+09  \n",
       "99           NaN  \n",
       "\n",
       "[100 rows x 4 columns]"
      ]
     },
     "execution_count": 11,
     "metadata": {},
     "output_type": "execute_result"
    }
   ],
   "source": [
    "df_relevant"
   ]
  },
  {
   "cell_type": "code",
   "execution_count": 12,
   "id": "e635b341-6e03-4603-8b11-b4066e706eb3",
   "metadata": {},
   "outputs": [],
   "source": [
    "df_relevant = df_relevant.dropna()\n"
   ]
  },
  {
   "cell_type": "code",
   "execution_count": 13,
   "id": "b5097df8-95cc-4530-8b3a-2dd293a49083",
   "metadata": {},
   "outputs": [
    {
     "name": "stdout",
     "output_type": "stream",
     "text": [
      "Missing Values per Feature:\n",
      "Amortissement_Cumule              0\n",
      "Cout_de_Maintenance               0\n",
      "Investissement_dans_les_Actifs    0\n",
      "Revenu                            0\n",
      "dtype: int64\n"
     ]
    }
   ],
   "source": [
    "# Calculate the number of missing values for each feature\n",
    "missing_values_per_feature = df_relevant.isnull().sum()\n",
    "\n",
    "# Display the missing values for each feature\n",
    "print(\"Missing Values per Feature:\")\n",
    "print(missing_values_per_feature)"
   ]
  },
  {
   "cell_type": "code",
   "execution_count": 14,
   "id": "51b779fe-9fd0-4453-86d8-31f0a11681c8",
   "metadata": {},
   "outputs": [
    {
     "data": {
      "text/html": [
       "<div>\n",
       "<style scoped>\n",
       "    .dataframe tbody tr th:only-of-type {\n",
       "        vertical-align: middle;\n",
       "    }\n",
       "\n",
       "    .dataframe tbody tr th {\n",
       "        vertical-align: top;\n",
       "    }\n",
       "\n",
       "    .dataframe thead th {\n",
       "        text-align: right;\n",
       "    }\n",
       "</style>\n",
       "<table border=\"1\" class=\"dataframe\">\n",
       "  <thead>\n",
       "    <tr style=\"text-align: right;\">\n",
       "      <th></th>\n",
       "      <th>Amortissement_Cumule</th>\n",
       "      <th>Cout_de_Maintenance</th>\n",
       "      <th>Investissement_dans_les_Actifs</th>\n",
       "      <th>Revenu</th>\n",
       "    </tr>\n",
       "  </thead>\n",
       "  <tbody>\n",
       "    <tr>\n",
       "      <th>0</th>\n",
       "      <td>4026739.0</td>\n",
       "      <td>5255891.0</td>\n",
       "      <td>182826300.0</td>\n",
       "      <td>5.534759e+09</td>\n",
       "    </tr>\n",
       "    <tr>\n",
       "      <th>1</th>\n",
       "      <td>8363473.0</td>\n",
       "      <td>10225318.0</td>\n",
       "      <td>211300200.0</td>\n",
       "      <td>5.525097e+09</td>\n",
       "    </tr>\n",
       "    <tr>\n",
       "      <th>2</th>\n",
       "      <td>12836290.0</td>\n",
       "      <td>8940646.0</td>\n",
       "      <td>264511400.0</td>\n",
       "      <td>5.784253e+09</td>\n",
       "    </tr>\n",
       "    <tr>\n",
       "      <th>3</th>\n",
       "      <td>17133930.0</td>\n",
       "      <td>12949347.0</td>\n",
       "      <td>194698300.0</td>\n",
       "      <td>5.783704e+09</td>\n",
       "    </tr>\n",
       "    <tr>\n",
       "      <th>4</th>\n",
       "      <td>23981740.0</td>\n",
       "      <td>8975540.0</td>\n",
       "      <td>293709800.0</td>\n",
       "      <td>5.955701e+09</td>\n",
       "    </tr>\n",
       "    <tr>\n",
       "      <th>...</th>\n",
       "      <td>...</td>\n",
       "      <td>...</td>\n",
       "      <td>...</td>\n",
       "      <td>...</td>\n",
       "    </tr>\n",
       "    <tr>\n",
       "      <th>94</th>\n",
       "      <td>109391200.0</td>\n",
       "      <td>7162957.0</td>\n",
       "      <td>213829700.0</td>\n",
       "      <td>6.893958e+09</td>\n",
       "    </tr>\n",
       "    <tr>\n",
       "      <th>95</th>\n",
       "      <td>134151200.0</td>\n",
       "      <td>13387523.0</td>\n",
       "      <td>231027700.0</td>\n",
       "      <td>6.418321e+09</td>\n",
       "    </tr>\n",
       "    <tr>\n",
       "      <th>96</th>\n",
       "      <td>106796700.0</td>\n",
       "      <td>5706196.0</td>\n",
       "      <td>287120100.0</td>\n",
       "      <td>7.339604e+09</td>\n",
       "    </tr>\n",
       "    <tr>\n",
       "      <th>97</th>\n",
       "      <td>132705000.0</td>\n",
       "      <td>8782928.0</td>\n",
       "      <td>294497000.0</td>\n",
       "      <td>6.008380e+09</td>\n",
       "    </tr>\n",
       "    <tr>\n",
       "      <th>98</th>\n",
       "      <td>85889090.0</td>\n",
       "      <td>5283669.0</td>\n",
       "      <td>244334300.0</td>\n",
       "      <td>6.143543e+09</td>\n",
       "    </tr>\n",
       "  </tbody>\n",
       "</table>\n",
       "<p>99 rows × 4 columns</p>\n",
       "</div>"
      ],
      "text/plain": [
       "    Amortissement_Cumule  Cout_de_Maintenance  Investissement_dans_les_Actifs  \\\n",
       "0              4026739.0            5255891.0                     182826300.0   \n",
       "1              8363473.0           10225318.0                     211300200.0   \n",
       "2             12836290.0            8940646.0                     264511400.0   \n",
       "3             17133930.0           12949347.0                     194698300.0   \n",
       "4             23981740.0            8975540.0                     293709800.0   \n",
       "..                   ...                  ...                             ...   \n",
       "94           109391200.0            7162957.0                     213829700.0   \n",
       "95           134151200.0           13387523.0                     231027700.0   \n",
       "96           106796700.0            5706196.0                     287120100.0   \n",
       "97           132705000.0            8782928.0                     294497000.0   \n",
       "98            85889090.0            5283669.0                     244334300.0   \n",
       "\n",
       "          Revenu  \n",
       "0   5.534759e+09  \n",
       "1   5.525097e+09  \n",
       "2   5.784253e+09  \n",
       "3   5.783704e+09  \n",
       "4   5.955701e+09  \n",
       "..           ...  \n",
       "94  6.893958e+09  \n",
       "95  6.418321e+09  \n",
       "96  7.339604e+09  \n",
       "97  6.008380e+09  \n",
       "98  6.143543e+09  \n",
       "\n",
       "[99 rows x 4 columns]"
      ]
     },
     "execution_count": 14,
     "metadata": {},
     "output_type": "execute_result"
    }
   ],
   "source": [
    "from sklearn.preprocessing import LabelEncoder\n",
    "# Identify categorical columns\n",
    "categorical_columns = df_relevant.select_dtypes(include=['object']).columns\n",
    "\n",
    "# Initialize LabelEncoder\n",
    "label_encoder = LabelEncoder()\n",
    "\n",
    "# Apply LabelEncoder to each categorical column\n",
    "for col in categorical_columns:\n",
    "    df_relevant[col] = label_encoder.fit_transform(df_relevant[col])\n",
    "\n",
    "df_relevant"
   ]
  },
  {
   "cell_type": "code",
   "execution_count": 15,
   "id": "65e7c0d8-15f0-48eb-a871-404b7889de41",
   "metadata": {},
   "outputs": [
    {
     "name": "stdout",
     "output_type": "stream",
     "text": [
      "                                Missing Values  Percentage\n",
      "Amortissement_Cumule                         1         1.0\n",
      "Cout_de_Maintenance                          1         1.0\n",
      "Investissement_dans_les_Actifs               1         1.0\n",
      "Revenu                                       1         1.0\n"
     ]
    }
   ],
   "source": [
    "# Calculate the total number of rows in the DataFrame\n",
    "total_rows = df.shape[0]\n",
    "\n",
    "# Calculate the number of missing values (NaN) for each feature\n",
    "missing_values = df.isnull().sum()\n",
    "\n",
    "# Calculate the percentage of missing values for each feature\n",
    "percentage_missing = (missing_values / total_rows) * 100\n",
    "\n",
    "# Create a DataFrame to store the results\n",
    "missing_data_info = pd.DataFrame({'Missing Values': missing_values, 'Percentage': percentage_missing})\n",
    "\n",
    "# Display the DataFrame\n",
    "print(missing_data_info)"
   ]
  },
  {
   "cell_type": "code",
   "execution_count": 16,
   "id": "86676f42-77c0-4e60-873a-4702091ed9f0",
   "metadata": {},
   "outputs": [],
   "source": [
    "df = df_relevant"
   ]
  },
  {
   "cell_type": "code",
   "execution_count": 17,
   "id": "ec90ebb9-58d0-4524-8c10-739f56aba527",
   "metadata": {},
   "outputs": [
    {
     "data": {
      "image/png": "[encoded data removed]",
      "text/plain": [
       "<Figure size 800x600 with 1 Axes>"
      ]
     },
     "metadata": {},
     "output_type": "display_data"
    },
    {
     "data": {
      "image/png": "[encoded data removed]",
      "text/plain": [
       "<Figure size 800x600 with 1 Axes>"
      ]
     },
     "metadata": {},
     "output_type": "display_data"
    },
    {
     "data": {
      "image/png": "[encoded data removed]",
      "text/plain": [
       "<Figure size 800x600 with 1 Axes>"
      ]
     },
     "metadata": {},
     "output_type": "display_data"
    },
    {
     "data": {
      "image/png": "[encoded data removed]",
      "text/plain": [
       "<Figure size 800x600 with 1 Axes>"
      ]
     },
     "metadata": {},
     "output_type": "display_data"
    }
   ],
   "source": [
    "import matplotlib.pyplot as plt\n",
    "\n",
    "def plot_distribution(df, feature_name):\n",
    "    plt.figure(figsize=(8, 6))\n",
    "    plt.hist(df[feature_name], bins=20, color='skyblue', edgecolor='black')\n",
    "    plt.title(f'Distribution of {feature_name}')\n",
    "    plt.xlabel(feature_name)\n",
    "    plt.ylabel('Frequency')\n",
    "    plt.grid(True)\n",
    "    plt.show()\n",
    "\n",
    "# Loop through the first 12 columns of the DataFrame\n",
    "for column in df.columns[:]:\n",
    "    plot_distribution(df, column)"
   ]
  },
  {
   "cell_type": "code",
   "execution_count": 18,
   "id": "71e06cd8-2b78-4c48-869d-b28dba985830",
   "metadata": {},
   "outputs": [
    {
     "data": {
      "text/plain": [
       "Index(['Amortissement_Cumule', 'Cout_de_Maintenance',\n",
       "       'Investissement_dans_les_Actifs', 'Revenu'],\n",
       "      dtype='object')"
      ]
     },
     "execution_count": 18,
     "metadata": {},
     "output_type": "execute_result"
    }
   ],
   "source": [
    "df.columns"
   ]
  },
  {
   "cell_type": "code",
   "execution_count": 24,
   "id": "27af3f8c-1e76-49c3-8426-92c1954a7166",
   "metadata": {},
   "outputs": [],
   "source": [
    "import pandas as pd\n",
    "from sklearn.model_selection import train_test_split\n",
    "from sklearn.linear_model import LinearRegression\n",
    "from sklearn.ensemble import RandomForestRegressor\n",
    "from sklearn.metrics import mean_squared_error\n",
    "\n",
    "# Assuming df is your DataFrame with the relevant features and the target variable 'SALARY'\n",
    "\n",
    "# Separate features (X) and target variable (y)\n",
    "X = df.drop(columns=['Revenu'])\n",
    "y = df['Revenu']\n",
    "\n",
    "# Split the data into training and testing sets\n",
    "X_train, X_test, y_train, y_test = train_test_split(X, y, test_size=0.2, random_state=42)\n",
    "\n",
    "# Initialize and train Linear Regression model\n",
    "linear_reg_model = LinearRegression()\n",
    "linear_reg_model.fit(X_train, y_train)\n",
    "\n",
    "# Initialize and train Random Forest Regression model\n",
    "rf_reg_model = RandomForestRegressor(random_state=42)\n",
    "rf_reg_model.fit(X_train, y_train)\n",
    "\n",
    "# Predictions\n",
    "linear_reg_pred = linear_reg_model.predict(X_test)\n",
    "rf_reg_pred = rf_reg_model.predict(X_test)\n",
    "\n",
    "# Calculate Mean Squared Error for each model\n",
    "linear_reg_mse = mean_squared_error(y_test, linear_reg_pred)\n",
    "rf_reg_mse = mean_squared_error(y_test, rf_reg_pred)\n",
    "\n",
    "\n"
   ]
  },
  {
   "cell_type": "markdown",
   "id": "e0d7d37f",
   "metadata": {},
   "source": [
    " ## Linear Regression Mean Squared Error: 2.8716512539681632e+17\n",
    "## Random Forest Regression Mean Squared Error: 8.634944113860573e+16\n"
   ]
  },
  {
   "cell_type": "code",
   "execution_count": 20,
   "id": "ad8c0039-e43f-4064-b73b-089184f7e5ae",
   "metadata": {},
   "outputs": [],
   "source": [
    "new_data = pd.DataFrame([{\n",
    "    'Amortissement_Cumule': 0777.0,\n",
    "    'Cout_de_Maintenance': 6.0,\n",
    "    'Investissement_dans_les_Actifs': 1.0\n",
    "}])\n"
   ]
  },
  {
   "cell_type": "code",
   "execution_count": 26,
   "id": "b828dfb5-8c65-4fe6-a9d1-61b686315561",
   "metadata": {},
   "outputs": [],
   "source": [
    "# Predict salary for the new data\n",
    "newprediction_rf = rf_reg_model.predict(new_data)\n",
    "new_prediction_linear = linear_reg_model.predict(new_data)\n"
   ]
  },
  {
   "cell_type": "markdown",
   "id": "891592d9",
   "metadata": {},
   "source": [
    "## Predicted : [5.71475672e+09]\n",
    "\n",
    "## Predicted : [4.94672732e+09]"
   ]
  },
  {
   "cell_type": "code",
   "execution_count": 22,
   "id": "45db5010-1371-41ab-a4bf-f5f8eaafe433",
   "metadata": {},
   "outputs": [],
   "source": [
    "import pickle\n"
   ]
  },
  {
   "cell_type": "code",
   "execution_count": null,
   "id": "4780c554",
   "metadata": {},
   "outputs": [],
   "source": [
    "import pickle\n",
    "\n",
    "# Sauvegarde du modèle Linear Regression dans un fichier .pkl\n",
    "with open('linear_reg_model.pkl', 'wb') as file:\n",
    "    pickle.dump(linear_reg_model, file)\n",
    "\n",
    "\n"
   ]
  },
  {
   "cell_type": "markdown",
   "id": "0f02b04b",
   "metadata": {},
   "source": [
    "## ✔️ Modèle Linear Regression sauvegardé dans 'linear_reg_model.pkl'\")"
   ]
  },
  {
   "cell_type": "code",
   "execution_count": null,
   "id": "2796c73b",
   "metadata": {},
   "outputs": [],
   "source": []
  }
 ],
 "metadata": {
  "kernelspec": {
   "display_name": "Python 3 (ipykernel)",
   "language": "python",
   "name": "python3"
  },
  "language_info": {
   "codemirror_mode": {
    "name": "ipython",
    "version": 3
   },
   "file_extension": ".py",
   "mimetype": "text/x-python",
   "name": "python",
   "nbconvert_exporter": "python",
   "pygments_lexer": "ipython3",
   "version": "3.11.5"
  }
 },
 "nbformat": 4,
 "nbformat_minor": 5
}
